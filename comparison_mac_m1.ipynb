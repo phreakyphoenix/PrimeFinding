{
 "cells": [
  {
   "cell_type": "markdown",
   "metadata": {},
   "source": [
    "### Comparing Prime Finding Algorithms\n",
    "Inspiration [video](https://www.youtube.com/watch?v=fwxjMKBMR7s) and [reddit post](https://www.reddit.com/r/learnprogramming/comments/1apk2dk/help_needed_with_recreating_dijkstras_prime/)"
   ]
  },
  {
   "cell_type": "code",
   "execution_count": 1,
   "metadata": {},
   "outputs": [],
   "source": [
    "import time, heapq\n",
    "import pandas as pd"
   ]
  },
  {
   "cell_type": "code",
   "execution_count": 2,
   "metadata": {},
   "outputs": [],
   "source": [
    "# simple trial division\n",
    "def trial_division(n):\n",
    "    primes = []\n",
    "    for i in range(2, n):\n",
    "        is_prime = True\n",
    "        for j in range(2, int(i**0.5) + 1):\n",
    "            if i % j == 0:\n",
    "                is_prime = False\n",
    "                break\n",
    "        if is_prime:\n",
    "            primes.append(i)\n",
    "    return primes"
   ]
  },
  {
   "cell_type": "code",
   "execution_count": 3,
   "metadata": {},
   "outputs": [],
   "source": [
    "# sieve of eratosthenes method of finding primes\n",
    "def sieve_of_eratosthenes(n):\n",
    "    primes = []\n",
    "    is_prime = [True] * (n + 1)\n",
    "    is_prime[0] = is_prime[1] = False\n",
    "\n",
    "    for i in range(2, int(n**0.5) + 1):\n",
    "        if is_prime[i]:\n",
    "            primes.append(i)\n",
    "            for j in range(i*i, n + 1, i):\n",
    "                is_prime[j] = False\n",
    "\n",
    "    for i in range(int(n**0.5) + 1, n + 1):\n",
    "        if is_prime[i]:\n",
    "            primes.append(i)\n",
    "\n",
    "    return primes"
   ]
  },
  {
   "cell_type": "code",
   "execution_count": 4,
   "metadata": {},
   "outputs": [],
   "source": [
    "# original, \n",
    "def dijkstraPrimes(n):\n",
    "    pool = [[4,2]]\n",
    "    primes = [2]\n",
    "    for i in range(3, n):\n",
    "        if min(pool)[0] > i:\n",
    "            pool.append([i**2,i])\n",
    "            primes+=[i]\n",
    "        else:\n",
    "            for pair in pool:\n",
    "                while pair[0] <= i:\n",
    "                    pair[0] += pair[1]\n",
    "    return primes"
   ]
  },
  {
   "cell_type": "code",
   "execution_count": 5,
   "metadata": {},
   "outputs": [],
   "source": [
    "# level 1, optimized version of dijkstraPrimes using heapq\n",
    "def dijkstraPrimes_heapq(n):\n",
    "    pool = [(4, 2)]\n",
    "    primes = [2]\n",
    "\n",
    "    for i in range(3, n):\n",
    "        if pool[0][0] > i:\n",
    "            heapq.heappush(pool, (i**2, i))\n",
    "            primes.append(i)\n",
    "        else:\n",
    "            while pool[0][0] <= i:\n",
    "                current_value, current_prime = heapq.heappop(pool)\n",
    "                heapq.heappush(pool, (current_prime + current_value, current_prime))\n",
    "\n",
    "    return primes"
   ]
  },
  {
   "cell_type": "code",
   "execution_count": 6,
   "metadata": {},
   "outputs": [],
   "source": [
    "# level 2, optimized version of dijkstraPrimes_heapq, removing redundant access\n",
    "def dijkstraPrimes_heapq_2(n):\n",
    "    pool = [(4, 2)]\n",
    "    primes = [2]\n",
    "\n",
    "    for i in range(3, n):\n",
    "        current_value, current_prime = pool[0]\n",
    "\n",
    "        if current_value > i:\n",
    "            heapq.heappush(pool, (i**2, i))\n",
    "            primes.append(i)\n",
    "        else:\n",
    "            while current_value <= i:\n",
    "                heapq.heappop(pool)\n",
    "                heapq.heappush(pool, (current_prime + current_value, current_prime))\n",
    "                current_value, current_prime = pool[0]\n",
    "\n",
    "    return primes"
   ]
  },
  {
   "cell_type": "code",
   "execution_count": 7,
   "metadata": {},
   "outputs": [
    {
     "name": "stdout",
     "output_type": "stream",
     "text": [
      "[2, 3, 5, 7, 11, 13, 17, 19, 23, 29, 31, 37, 41, 43, 47]\n",
      "[2, 3, 5, 7, 11, 13, 17, 19, 23, 29, 31, 37, 41, 43, 47]\n",
      "[2, 3, 5, 7, 11, 13, 17, 19, 23, 29, 31, 37, 41, 43, 47]\n",
      "[2, 3, 5, 7, 11, 13, 17, 19, 23, 29, 31, 37, 41, 43, 47]\n",
      "[2, 3, 5, 7, 11, 13, 17, 19, 23, 29, 31, 37, 41, 43, 47]\n"
     ]
    }
   ],
   "source": [
    "#visual checks\n",
    "print (trial_division(50))\n",
    "print (sieve_of_eratosthenes(50))\n",
    "print (dijkstraPrimes(50))\n",
    "print (dijkstraPrimes_heapq(50))\n",
    "print (dijkstraPrimes_heapq_2(50))"
   ]
  },
  {
   "cell_type": "code",
   "execution_count": 8,
   "metadata": {},
   "outputs": [],
   "source": [
    "#length checks\n",
    "assert  len(dijkstraPrimes(1000)) ==\\\n",
    "        len(dijkstraPrimes_heapq(1000)) ==\\\n",
    "        len(dijkstraPrimes_heapq_2(1000)) ==\\\n",
    "        len(sieve_of_eratosthenes(1000)) ==\\\n",
    "        len(trial_division(1000))"
   ]
  },
  {
   "cell_type": "code",
   "execution_count": 9,
   "metadata": {},
   "outputs": [],
   "source": [
    "# benchmarking from https://www.reddit.com/r/learnprogramming/comments/1apk2dk/help_needed_with_recreating_dijkstras_prime/\n",
    "def benchmark(func, *args, **kwargs):\n",
    "    total_time = 0\n",
    "    num_runs = 100\n",
    "    start_time = time.time()\n",
    "    for _ in range(num_runs):\n",
    "        func(*args, **kwargs)\n",
    "    end_time = time.time()\n",
    "    total_time = end_time-start_time\n",
    "    average_time = total_time / num_runs\n",
    "    return (average_time,total_time)"
   ]
  },
  {
   "cell_type": "code",
   "execution_count": 10,
   "metadata": {},
   "outputs": [],
   "source": [
    "# show the benchmarking result in a df\n",
    "def benchmark_df(funcs, *args, **kwargs):\n",
    "    results = {}\n",
    "    for func in funcs:\n",
    "        results[func.__name__] = benchmark(func, *args, **kwargs)\n",
    "    return pd.DataFrame(results).T.rename(columns={0: 'Avg Time', 1: 'Total Time'})"
   ]
  },
  {
   "cell_type": "code",
   "execution_count": 11,
   "metadata": {},
   "outputs": [
    {
     "data": {
      "text/html": [
       "<div>\n",
       "<style scoped>\n",
       "    .dataframe tbody tr th:only-of-type {\n",
       "        vertical-align: middle;\n",
       "    }\n",
       "\n",
       "    .dataframe tbody tr th {\n",
       "        vertical-align: top;\n",
       "    }\n",
       "\n",
       "    .dataframe thead th {\n",
       "        text-align: right;\n",
       "    }\n",
       "</style>\n",
       "<table border=\"1\" class=\"dataframe\">\n",
       "  <thead>\n",
       "    <tr style=\"text-align: right;\">\n",
       "      <th></th>\n",
       "      <th>Avg Time</th>\n",
       "      <th>Total Time</th>\n",
       "    </tr>\n",
       "  </thead>\n",
       "  <tbody>\n",
       "    <tr>\n",
       "      <th>trial_division</th>\n",
       "      <td>0.000286</td>\n",
       "      <td>0.028569</td>\n",
       "    </tr>\n",
       "    <tr>\n",
       "      <th>sieve_of_eratosthenes</th>\n",
       "      <td>0.000044</td>\n",
       "      <td>0.004447</td>\n",
       "    </tr>\n",
       "    <tr>\n",
       "      <th>dijkstraPrimes</th>\n",
       "      <td>0.002894</td>\n",
       "      <td>0.289364</td>\n",
       "    </tr>\n",
       "    <tr>\n",
       "      <th>dijkstraPrimes_heapq</th>\n",
       "      <td>0.000432</td>\n",
       "      <td>0.043154</td>\n",
       "    </tr>\n",
       "    <tr>\n",
       "      <th>dijkstraPrimes_heapq_2</th>\n",
       "      <td>0.000432</td>\n",
       "      <td>0.043177</td>\n",
       "    </tr>\n",
       "  </tbody>\n",
       "</table>\n",
       "</div>"
      ],
      "text/plain": [
       "                        Avg Time  Total Time\n",
       "trial_division          0.000286    0.028569\n",
       "sieve_of_eratosthenes   0.000044    0.004447\n",
       "dijkstraPrimes          0.002894    0.289364\n",
       "dijkstraPrimes_heapq    0.000432    0.043154\n",
       "dijkstraPrimes_heapq_2  0.000432    0.043177"
      ]
     },
     "execution_count": 11,
     "metadata": {},
     "output_type": "execute_result"
    }
   ],
   "source": [
    "#comparing all algorithms on 1000 iterations\n",
    "benchmark_df([trial_division, sieve_of_eratosthenes, dijkstraPrimes, dijkstraPrimes_heapq, dijkstraPrimes_heapq_2], 1_000)"
   ]
  },
  {
   "cell_type": "code",
   "execution_count": 12,
   "metadata": {},
   "outputs": [
    {
     "data": {
      "text/html": [
       "<div>\n",
       "<style scoped>\n",
       "    .dataframe tbody tr th:only-of-type {\n",
       "        vertical-align: middle;\n",
       "    }\n",
       "\n",
       "    .dataframe tbody tr th {\n",
       "        vertical-align: top;\n",
       "    }\n",
       "\n",
       "    .dataframe thead th {\n",
       "        text-align: right;\n",
       "    }\n",
       "</style>\n",
       "<table border=\"1\" class=\"dataframe\">\n",
       "  <thead>\n",
       "    <tr style=\"text-align: right;\">\n",
       "      <th></th>\n",
       "      <th>Avg Time</th>\n",
       "      <th>Total Time</th>\n",
       "    </tr>\n",
       "  </thead>\n",
       "  <tbody>\n",
       "    <tr>\n",
       "      <th>trial_division</th>\n",
       "      <td>0.069229</td>\n",
       "      <td>6.922875</td>\n",
       "    </tr>\n",
       "    <tr>\n",
       "      <th>sieve_of_eratosthenes</th>\n",
       "      <td>0.005213</td>\n",
       "      <td>0.521323</td>\n",
       "    </tr>\n",
       "    <tr>\n",
       "      <th>dijkstraPrimes_heapq</th>\n",
       "      <td>0.087195</td>\n",
       "      <td>8.719544</td>\n",
       "    </tr>\n",
       "    <tr>\n",
       "      <th>dijkstraPrimes_heapq_2</th>\n",
       "      <td>0.084804</td>\n",
       "      <td>8.480368</td>\n",
       "    </tr>\n",
       "  </tbody>\n",
       "</table>\n",
       "</div>"
      ],
      "text/plain": [
       "                        Avg Time  Total Time\n",
       "trial_division          0.069229    6.922875\n",
       "sieve_of_eratosthenes   0.005213    0.521323\n",
       "dijkstraPrimes_heapq    0.087195    8.719544\n",
       "dijkstraPrimes_heapq_2  0.084804    8.480368"
      ]
     },
     "execution_count": 12,
     "metadata": {},
     "output_type": "execute_result"
    }
   ],
   "source": [
    "#comparing all efficient algorithms on 100k iterations\n",
    "benchmark_df([trial_division, sieve_of_eratosthenes, dijkstraPrimes_heapq, dijkstraPrimes_heapq_2], 100_000)"
   ]
  },
  {
   "cell_type": "code",
   "execution_count": 13,
   "metadata": {},
   "outputs": [
    {
     "data": {
      "text/html": [
       "<div>\n",
       "<style scoped>\n",
       "    .dataframe tbody tr th:only-of-type {\n",
       "        vertical-align: middle;\n",
       "    }\n",
       "\n",
       "    .dataframe tbody tr th {\n",
       "        vertical-align: top;\n",
       "    }\n",
       "\n",
       "    .dataframe thead th {\n",
       "        text-align: right;\n",
       "    }\n",
       "</style>\n",
       "<table border=\"1\" class=\"dataframe\">\n",
       "  <thead>\n",
       "    <tr style=\"text-align: right;\">\n",
       "      <th></th>\n",
       "      <th>Avg Time</th>\n",
       "      <th>Total Time</th>\n",
       "    </tr>\n",
       "  </thead>\n",
       "  <tbody>\n",
       "    <tr>\n",
       "      <th>dijkstraPrimes_heapq</th>\n",
       "      <td>1.096155</td>\n",
       "      <td>109.615474</td>\n",
       "    </tr>\n",
       "    <tr>\n",
       "      <th>dijkstraPrimes_heapq_2</th>\n",
       "      <td>1.088877</td>\n",
       "      <td>108.887742</td>\n",
       "    </tr>\n",
       "  </tbody>\n",
       "</table>\n",
       "</div>"
      ],
      "text/plain": [
       "                        Avg Time  Total Time\n",
       "dijkstraPrimes_heapq    1.096155  109.615474\n",
       "dijkstraPrimes_heapq_2  1.088877  108.887742"
      ]
     },
     "execution_count": 13,
     "metadata": {},
     "output_type": "execute_result"
    }
   ],
   "source": [
    "#comparing 2 heap algorithms on 1M iterations\n",
    "benchmark_df([dijkstraPrimes_heapq, dijkstraPrimes_heapq_2], 1_000_000)   "
   ]
  },
  {
   "cell_type": "markdown",
   "metadata": {},
   "source": [
    "### Conclusion\n",
    "1. Sieve of Eratosthenes cannot be beaten on speed.\n",
    "2. Trial division takes negligible aux space\n",
    "3. Diskstra's algorithm is great middle ground, taking a bit more time compared to trial division, but much less space than the sieve.\n",
    "4. All algorithms can be improved with human ingenuity.\n",
    "5. **dijkstraPrimes_heapq_2** is the fastest amongst the Dijkstra-inspired prime finding implementations in this notebook."
   ]
  }
 ],
 "metadata": {
  "kernelspec": {
   "display_name": "venv",
   "language": "python",
   "name": "python3"
  },
  "language_info": {
   "codemirror_mode": {
    "name": "ipython",
    "version": 3
   },
   "file_extension": ".py",
   "mimetype": "text/x-python",
   "name": "python",
   "nbconvert_exporter": "python",
   "pygments_lexer": "ipython3",
   "version": "3.11.6"
  }
 },
 "nbformat": 4,
 "nbformat_minor": 2
}
